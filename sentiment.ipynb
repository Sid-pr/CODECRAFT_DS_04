{
 "cells": [
  {
   "cell_type": "code",
   "execution_count": 11,
   "id": "b5b052fd",
   "metadata": {},
   "outputs": [
    {
     "name": "stdout",
     "output_type": "stream",
     "text": [
      "training dataset    2401  Borderlands  Positive  \\\n",
      "0  2401  Borderlands  Positive   \n",
      "1  2401  Borderlands  Positive   \n",
      "2  2401  Borderlands  Positive   \n",
      "3  2401  Borderlands  Positive   \n",
      "4  2401  Borderlands  Positive   \n",
      "\n",
      "  im getting on borderlands and i will murder you all ,  \n",
      "0  I am coming to the borders and I will kill you...     \n",
      "1  im getting on borderlands and i will kill you ...     \n",
      "2  im coming on borderlands and i will murder you...     \n",
      "3  im getting on borderlands 2 and i will murder ...     \n",
      "4  im getting into borderlands and i can murder y...     \n",
      "validation dataset    3364   Facebook Irrelevant  \\\n",
      "0   352     Amazon    Neutral   \n",
      "1  8312  Microsoft   Negative   \n",
      "2  4371      CS-GO   Negative   \n",
      "3  4433     Google    Neutral   \n",
      "4  6273       FIFA   Negative   \n",
      "\n",
      "  I mentioned on Facebook that I was struggling for motivation to go for a run the other day, which has been translated by Tom’s great auntie as ‘Hayley can’t get out of bed’ and told to his grandma, who now thinks I’m a lazy, terrible person 🤣  \n",
      "0  BBC News - Amazon boss Jeff Bezos rejects clai...                                                                                                                                                                                                  \n",
      "1  @Microsoft Why do I pay for WORD when it funct...                                                                                                                                                                                                  \n",
      "2  CSGO matchmaking is so full of closet hacking,...                                                                                                                                                                                                  \n",
      "3  Now the President is slapping Americans in the...                                                                                                                                                                                                  \n",
      "4  Hi @EAHelp I’ve had Madeleine McCann in my cel...                                                                                                                                                                                                  \n"
     ]
    }
   ],
   "source": [
    "import numpy as np\n",
    "import pandas as pd\n",
    "import matplotlib.pyplot as plt\n",
    "import seaborn as sns\n",
    "\n",
    "train = pd.read_csv(\"twitter_training.csv\")\n",
    "val=pd.read_csv(\"twitter_validation.csv\")\n",
    "\n",
    "print(\"training dataset\", train.head())\n",
    "print(\"validation dataset\", val.head())"
   ]
  },
  {
   "cell_type": "code",
   "execution_count": 20,
   "id": "826acfd4",
   "metadata": {},
   "outputs": [
    {
     "data": {
      "text/html": [
       "<div>\n",
       "<style scoped>\n",
       "    .dataframe tbody tr th:only-of-type {\n",
       "        vertical-align: middle;\n",
       "    }\n",
       "\n",
       "    .dataframe tbody tr th {\n",
       "        vertical-align: top;\n",
       "    }\n",
       "\n",
       "    .dataframe thead th {\n",
       "        text-align: right;\n",
       "    }\n",
       "</style>\n",
       "<table border=\"1\" class=\"dataframe\">\n",
       "  <thead>\n",
       "    <tr style=\"text-align: right;\">\n",
       "      <th></th>\n",
       "      <th>ID</th>\n",
       "      <th>Entity</th>\n",
       "      <th>Sentiments</th>\n",
       "      <th>tweet_content</th>\n",
       "    </tr>\n",
       "  </thead>\n",
       "  <tbody>\n",
       "    <tr>\n",
       "      <th>0</th>\n",
       "      <td>2401</td>\n",
       "      <td>Borderlands</td>\n",
       "      <td>Positive</td>\n",
       "      <td>I am coming to the borders and I will kill you...</td>\n",
       "    </tr>\n",
       "    <tr>\n",
       "      <th>1</th>\n",
       "      <td>2401</td>\n",
       "      <td>Borderlands</td>\n",
       "      <td>Positive</td>\n",
       "      <td>im getting on borderlands and i will kill you ...</td>\n",
       "    </tr>\n",
       "    <tr>\n",
       "      <th>2</th>\n",
       "      <td>2401</td>\n",
       "      <td>Borderlands</td>\n",
       "      <td>Positive</td>\n",
       "      <td>im coming on borderlands and i will murder you...</td>\n",
       "    </tr>\n",
       "    <tr>\n",
       "      <th>3</th>\n",
       "      <td>2401</td>\n",
       "      <td>Borderlands</td>\n",
       "      <td>Positive</td>\n",
       "      <td>im getting on borderlands 2 and i will murder ...</td>\n",
       "    </tr>\n",
       "    <tr>\n",
       "      <th>4</th>\n",
       "      <td>2401</td>\n",
       "      <td>Borderlands</td>\n",
       "      <td>Positive</td>\n",
       "      <td>im getting into borderlands and i can murder y...</td>\n",
       "    </tr>\n",
       "  </tbody>\n",
       "</table>\n",
       "</div>"
      ],
      "text/plain": [
       "     ID       Entity Sentiments  \\\n",
       "0  2401  Borderlands   Positive   \n",
       "1  2401  Borderlands   Positive   \n",
       "2  2401  Borderlands   Positive   \n",
       "3  2401  Borderlands   Positive   \n",
       "4  2401  Borderlands   Positive   \n",
       "\n",
       "                                       tweet_content  \n",
       "0  I am coming to the borders and I will kill you...  \n",
       "1  im getting on borderlands and i will kill you ...  \n",
       "2  im coming on borderlands and i will murder you...  \n",
       "3  im getting on borderlands 2 and i will murder ...  \n",
       "4  im getting into borderlands and i can murder y...  "
      ]
     },
     "execution_count": 20,
     "metadata": {},
     "output_type": "execute_result"
    }
   ],
   "source": [
    "train.columns=['ID','Entity','Sentiments','tweet_content']\n",
    "train.head()"
   ]
  },
  {
   "cell_type": "code",
   "execution_count": 21,
   "id": "cfab3b30",
   "metadata": {},
   "outputs": [
    {
     "data": {
      "text/html": [
       "<div>\n",
       "<style scoped>\n",
       "    .dataframe tbody tr th:only-of-type {\n",
       "        vertical-align: middle;\n",
       "    }\n",
       "\n",
       "    .dataframe tbody tr th {\n",
       "        vertical-align: top;\n",
       "    }\n",
       "\n",
       "    .dataframe thead th {\n",
       "        text-align: right;\n",
       "    }\n",
       "</style>\n",
       "<table border=\"1\" class=\"dataframe\">\n",
       "  <thead>\n",
       "    <tr style=\"text-align: right;\">\n",
       "      <th></th>\n",
       "      <th>ID</th>\n",
       "      <th>Entity</th>\n",
       "      <th>Sentiments</th>\n",
       "      <th>tweet_content</th>\n",
       "    </tr>\n",
       "  </thead>\n",
       "  <tbody>\n",
       "    <tr>\n",
       "      <th>0</th>\n",
       "      <td>352</td>\n",
       "      <td>Amazon</td>\n",
       "      <td>Neutral</td>\n",
       "      <td>BBC News - Amazon boss Jeff Bezos rejects clai...</td>\n",
       "    </tr>\n",
       "    <tr>\n",
       "      <th>1</th>\n",
       "      <td>8312</td>\n",
       "      <td>Microsoft</td>\n",
       "      <td>Negative</td>\n",
       "      <td>@Microsoft Why do I pay for WORD when it funct...</td>\n",
       "    </tr>\n",
       "    <tr>\n",
       "      <th>2</th>\n",
       "      <td>4371</td>\n",
       "      <td>CS-GO</td>\n",
       "      <td>Negative</td>\n",
       "      <td>CSGO matchmaking is so full of closet hacking,...</td>\n",
       "    </tr>\n",
       "    <tr>\n",
       "      <th>3</th>\n",
       "      <td>4433</td>\n",
       "      <td>Google</td>\n",
       "      <td>Neutral</td>\n",
       "      <td>Now the President is slapping Americans in the...</td>\n",
       "    </tr>\n",
       "    <tr>\n",
       "      <th>4</th>\n",
       "      <td>6273</td>\n",
       "      <td>FIFA</td>\n",
       "      <td>Negative</td>\n",
       "      <td>Hi @EAHelp I’ve had Madeleine McCann in my cel...</td>\n",
       "    </tr>\n",
       "  </tbody>\n",
       "</table>\n",
       "</div>"
      ],
      "text/plain": [
       "     ID     Entity Sentiments  \\\n",
       "0   352     Amazon    Neutral   \n",
       "1  8312  Microsoft   Negative   \n",
       "2  4371      CS-GO   Negative   \n",
       "3  4433     Google    Neutral   \n",
       "4  6273       FIFA   Negative   \n",
       "\n",
       "                                       tweet_content  \n",
       "0  BBC News - Amazon boss Jeff Bezos rejects clai...  \n",
       "1  @Microsoft Why do I pay for WORD when it funct...  \n",
       "2  CSGO matchmaking is so full of closet hacking,...  \n",
       "3  Now the President is slapping Americans in the...  \n",
       "4  Hi @EAHelp I’ve had Madeleine McCann in my cel...  "
      ]
     },
     "execution_count": 21,
     "metadata": {},
     "output_type": "execute_result"
    }
   ],
   "source": [
    "val.columns=['ID','Entity','Sentiments','tweet_content']\n",
    "val.head()"
   ]
  },
  {
   "cell_type": "code",
   "execution_count": 22,
   "id": "b3f7678e",
   "metadata": {},
   "outputs": [
    {
     "name": "stdout",
     "output_type": "stream",
     "text": [
      "<class 'pandas.core.frame.DataFrame'>\n",
      "Index: 73995 entries, 0 to 74680\n",
      "Data columns (total 4 columns):\n",
      " #   Column         Non-Null Count  Dtype \n",
      "---  ------         --------------  ----- \n",
      " 0   ID             73995 non-null  int64 \n",
      " 1   Entity         73995 non-null  object\n",
      " 2   Sentiments     73995 non-null  object\n",
      " 3   tweet_content  73995 non-null  object\n",
      "dtypes: int64(1), object(3)\n",
      "memory usage: 2.8+ MB\n",
      "<class 'pandas.core.frame.DataFrame'>\n",
      "RangeIndex: 999 entries, 0 to 998\n",
      "Data columns (total 4 columns):\n",
      " #   Column         Non-Null Count  Dtype \n",
      "---  ------         --------------  ----- \n",
      " 0   ID             999 non-null    int64 \n",
      " 1   Entity         999 non-null    object\n",
      " 2   Sentiments     999 non-null    object\n",
      " 3   tweet_content  999 non-null    object\n",
      "dtypes: int64(1), object(3)\n",
      "memory usage: 31.3+ KB\n"
     ]
    }
   ],
   "source": [
    "train.info()\n",
    "val.info()"
   ]
  },
  {
   "cell_type": "code",
   "execution_count": 23,
   "id": "622f78dc",
   "metadata": {},
   "outputs": [
    {
     "name": "stdout",
     "output_type": "stream",
     "text": [
      "Null values in training dataset\n"
     ]
    },
    {
     "data": {
      "text/plain": [
       "ID               0\n",
       "Entity           0\n",
       "Sentiments       0\n",
       "tweet_content    0\n",
       "dtype: int64"
      ]
     },
     "metadata": {},
     "output_type": "display_data"
    },
    {
     "name": "stdout",
     "output_type": "stream",
     "text": [
      "Null values in validation dataset\n"
     ]
    },
    {
     "data": {
      "text/plain": [
       "ID               0\n",
       "Entity           0\n",
       "Sentiments       0\n",
       "tweet_content    0\n",
       "dtype: int64"
      ]
     },
     "metadata": {},
     "output_type": "display_data"
    }
   ],
   "source": [
    "print(\"Null values in training dataset\")\n",
    "display(train.isnull().sum())\n",
    "print(\"Null values in validation dataset\")\n",
    "display(val.isnull().sum())"
   ]
  },
  {
   "cell_type": "code",
   "execution_count": 24,
   "id": "13392ed7",
   "metadata": {},
   "outputs": [],
   "source": [
    "train=train.dropna()"
   ]
  },
  {
   "cell_type": "code",
   "execution_count": 29,
   "id": "c1a869bd",
   "metadata": {},
   "outputs": [
    {
     "name": "stderr",
     "output_type": "stream",
     "text": [
      "C:\\Users\\Prata\\AppData\\Local\\Temp\\ipykernel_6928\\1980220176.py:1: FutureWarning: \n",
      "\n",
      "Passing `palette` without assigning `hue` is deprecated and will be removed in v0.14.0. Assign the `x` variable to `hue` and set `legend=False` for the same effect.\n",
      "\n",
      "  sns.countplot(data=train,x='Sentiments',palette='bright')\n"
     ]
    },
    {
     "data": {
      "image/png": "[encoded data removed]",
      "text/plain": [
       "<Figure size 640x480 with 1 Axes>"
      ]
     },
     "metadata": {},
     "output_type": "display_data"
    }
   ],
   "source": [
    "sns.countplot(data=train,x='Sentiments',palette='bright')\n",
    "plt.title('sentiment count')\n",
    "plt.xlabel('sentiment')\n",
    "plt.ylabel('count')\n",
    "plt.xticks(rotation=90)\n",
    "plt.show()"
   ]
  },
  {
   "cell_type": "code",
   "execution_count": 30,
   "id": "8b2ff21a",
   "metadata": {},
   "outputs": [],
   "source": [
    "train=train.drop(['ID'],axis=1)\n",
    "val=val.drop(['ID'],axis=1)"
   ]
  },
  {
   "cell_type": "code",
   "execution_count": 32,
   "id": "1151eb8c",
   "metadata": {},
   "outputs": [
    {
     "data": {
      "image/png": "[encoded data removed]",
      "text/plain": [
       "<Figure size 2000x700 with 1 Axes>"
      ]
     },
     "metadata": {},
     "output_type": "display_data"
    }
   ],
   "source": [
    "plt.figure(figsize=(20,7))\n",
    "sns.countplot(data=train,x='Entity',hue='Sentiments')\n",
    "plt.title('Entity')\n",
    "plt.xlabel('entity')\n",
    "plt.ylabel('count')\n",
    "plt.xticks(rotation=90)\n",
    "plt.show()"
   ]
  },
  {
   "cell_type": "code",
   "execution_count": 34,
   "id": "7e687d71",
   "metadata": {},
   "outputs": [],
   "source": [
    "train=train.drop('Entity',axis=1)\n",
    "val=val.drop('Entity',axis=1)"
   ]
  },
  {
   "cell_type": "code",
   "execution_count": 35,
   "id": "ceb89b84",
   "metadata": {},
   "outputs": [
    {
     "data": {
      "text/html": [
       "<div>\n",
       "<style scoped>\n",
       "    .dataframe tbody tr th:only-of-type {\n",
       "        vertical-align: middle;\n",
       "    }\n",
       "\n",
       "    .dataframe tbody tr th {\n",
       "        vertical-align: top;\n",
       "    }\n",
       "\n",
       "    .dataframe thead th {\n",
       "        text-align: right;\n",
       "    }\n",
       "</style>\n",
       "<table border=\"1\" class=\"dataframe\">\n",
       "  <thead>\n",
       "    <tr style=\"text-align: right;\">\n",
       "      <th></th>\n",
       "      <th>Sentiments</th>\n",
       "      <th>tweet_content</th>\n",
       "    </tr>\n",
       "  </thead>\n",
       "  <tbody>\n",
       "    <tr>\n",
       "      <th>0</th>\n",
       "      <td>Positive</td>\n",
       "      <td>I am coming to the borders and I will kill you...</td>\n",
       "    </tr>\n",
       "    <tr>\n",
       "      <th>1</th>\n",
       "      <td>Positive</td>\n",
       "      <td>im getting on borderlands and i will kill you ...</td>\n",
       "    </tr>\n",
       "  </tbody>\n",
       "</table>\n",
       "</div>"
      ],
      "text/plain": [
       "  Sentiments                                      tweet_content\n",
       "0   Positive  I am coming to the borders and I will kill you...\n",
       "1   Positive  im getting on borderlands and i will kill you ..."
      ]
     },
     "execution_count": 35,
     "metadata": {},
     "output_type": "execute_result"
    }
   ],
   "source": [
    "train.head(2)"
   ]
  },
  {
   "cell_type": "code",
   "execution_count": 36,
   "id": "c6a54c2a",
   "metadata": {},
   "outputs": [
    {
     "name": "stderr",
     "output_type": "stream",
     "text": [
      "[nltk_data] Downloading package stopwords to\n",
      "[nltk_data]     C:\\Users\\Prata\\AppData\\Roaming\\nltk_data...\n",
      "[nltk_data]   Package stopwords is already up-to-date!\n",
      "[nltk_data] Downloading package wordnet to\n",
      "[nltk_data]     C:\\Users\\Prata\\AppData\\Roaming\\nltk_data...\n",
      "[nltk_data]   Package wordnet is already up-to-date!\n",
      "[nltk_data] Downloading package punkt_tab to\n",
      "[nltk_data]     C:\\Users\\Prata\\AppData\\Roaming\\nltk_data...\n",
      "[nltk_data]   Package punkt_tab is already up-to-date!\n"
     ]
    },
    {
     "data": {
      "text/plain": [
       "True"
      ]
     },
     "execution_count": 36,
     "metadata": {},
     "output_type": "execute_result"
    }
   ],
   "source": [
    "import re\n",
    "import nltk\n",
    "from nltk.tokenize import word_tokenize\n",
    "from nltk.stem import WordNetLemmatizer\n",
    "from nltk.corpus import stopwords\n",
    "nltk.download('stopwords')\n",
    "nltk.download('wordnet')\n",
    "nltk.download('punkt_tab')"
   ]
  },
  {
   "cell_type": "code",
   "execution_count": 37,
   "id": "ba77aed1",
   "metadata": {},
   "outputs": [],
   "source": [
    "def clean_df(text):\n",
    "    # Removes url\n",
    "    text=re.sub(r'http\\S+|www.\\S+','',text)\n",
    "    #Removes mentions and hashtag\n",
    "    text=re.sub(r'@\\w+|#\\w+','',text)\n",
    "    #Removes Special characters and numbers\n",
    "    text=re.sub(r'^a-zA-Z\\s','',text)\n",
    "    #Converts to lower\n",
    "    text=text.lower()\n",
    "    #Removes extra white space\n",
    "    text=re.sub(r'\\s+',' ',text).strip()\n",
    "    #return text\n",
    "    words=word_tokenize(text)\n",
    "    lemmatize=WordNetLemmatizer()\n",
    "    words=[lemmatize.lemmatize(word) for word in words]\n",
    "    stopword=set(stopwords.words('english'))\n",
    "    words=[word for word in words if word not in stopword]\n",
    "    words=[word for word in words if len(word)>4]\n",
    "    indices=np.unique(words,return_index=True)[1]\n",
    "    clean_text=np.array(words)[np.sort(indices)].tolist()\n",
    "    return clean_text"
   ]
  },
  {
   "cell_type": "code",
   "execution_count": 38,
   "id": "7da95f3b",
   "metadata": {},
   "outputs": [],
   "source": [
    "train_data=list(train['tweet_content'])\n",
    "test_data=list(val['tweet_content'])"
   ]
  },
  {
   "cell_type": "code",
   "execution_count": 39,
   "id": "ae948711",
   "metadata": {},
   "outputs": [],
   "source": [
    "train_clean=[clean_df(text) for text in train_data]\n",
    "test_clean=[clean_df(text) for text in test_data]"
   ]
  },
  {
   "cell_type": "code",
   "execution_count": 40,
   "id": "dbf77194",
   "metadata": {},
   "outputs": [],
   "source": [
    "X_train=train_clean\n",
    "X_test=test_clean"
   ]
  },
  {
   "cell_type": "code",
   "execution_count": 42,
   "id": "e29a8ebd",
   "metadata": {},
   "outputs": [],
   "source": [
    "from sklearn.preprocessing import LabelEncoder\n",
    "lr=LabelEncoder()\n",
    "y_train=lr.fit_transform(train['Sentiments'])\n",
    "y_test=lr.transform(val['Sentiments'])"
   ]
  },
  {
   "cell_type": "code",
   "execution_count": 43,
   "id": "ff252bf1",
   "metadata": {},
   "outputs": [],
   "source": [
    "from tensorflow.keras.preprocessing.text import Tokenizer\n",
    "from tensorflow.keras.preprocessing.sequence import pad_sequences"
   ]
  },
  {
   "cell_type": "code",
   "execution_count": 44,
   "id": "6cf82af5",
   "metadata": {},
   "outputs": [],
   "source": [
    "tokenizer=Tokenizer()\n",
    "tokenizer.fit_on_texts(X_train)\n",
    "word_idx=tokenizer.word_index\n",
    "sizevocab=len(word_idx)"
   ]
  },
  {
   "cell_type": "code",
   "execution_count": 45,
   "id": "1ff16bf8",
   "metadata": {},
   "outputs": [
    {
     "data": {
      "text/plain": [
       "31755"
      ]
     },
     "execution_count": 45,
     "metadata": {},
     "output_type": "execute_result"
    }
   ],
   "source": [
    "sizevocab"
   ]
  },
  {
   "cell_type": "code",
   "execution_count": 46,
   "id": "1269b99a",
   "metadata": {},
   "outputs": [],
   "source": [
    "X_train=tokenizer.texts_to_sequences(X_train)\n",
    "X_test=tokenizer.texts_to_sequences(X_test)\n",
    "X_train=pad_sequences(X_train,maxlen=150)\n",
    "X_test=pad_sequences(X_test,maxlen=150)"
   ]
  },
  {
   "cell_type": "code",
   "execution_count": 48,
   "id": "4df4a445",
   "metadata": {},
   "outputs": [],
   "source": [
    "from sklearn.ensemble import RandomForestClassifier\n",
    "from sklearn.metrics import classification_report,confusion_matrix,accuracy_score\n",
    "\n",
    "rf=RandomForestClassifier(n_estimators=100,random_state=42)\n",
    "rf.fit(X_train,y_train)\n",
    "rf_predict=rf.predict(X_test)"
   ]
  },
  {
   "cell_type": "code",
   "execution_count": 51,
   "id": "c8881f49",
   "metadata": {},
   "outputs": [
    {
     "name": "stdout",
     "output_type": "stream",
     "text": [
      "              precision    recall  f1-score   support\n",
      "\n",
      "           0       0.98      0.90      0.94       171\n",
      "           1       0.86      0.89      0.87       266\n",
      "           2       0.96      0.90      0.93       285\n",
      "           3       0.85      0.92      0.88       277\n",
      "\n",
      "    accuracy                           0.90       999\n",
      "   macro avg       0.91      0.90      0.91       999\n",
      "weighted avg       0.91      0.90      0.90       999\n",
      "\n",
      "Accuracy of Random Forest is: 0.9029029029029029\n"
     ]
    }
   ],
   "source": [
    "cm=confusion_matrix(y_test,rf_predict)\n",
    "cm\n",
    "print(classification_report(y_test,rf_predict))\n",
    "\n",
    "accuracy=accuracy_score(y_test,rf_predict)\n",
    "print('Accuracy of Random Forest is:',accuracy)"
   ]
  },
  {
   "cell_type": "code",
   "execution_count": 53,
   "id": "6cf5d4a3",
   "metadata": {},
   "outputs": [],
   "source": [
    "from keras.models import Sequential\n",
    "from keras.layers import Embedding,LSTM,Input,Dense,GlobalMaxPooling1D,Dropout\n",
    "from tensorflow.keras.models import Model\n",
    "from keras import optimizers\n",
    "from tensorflow.keras.optimizers import Adam\n",
    "\n",
    "max_len=150\n",
    "input=Input(shape=(max_len,))\n",
    "x=Embedding(sizevocab+1,100)(input)\n",
    "x=Dropout(0.5)(x)\n",
    "x=LSTM(150,return_sequences=True)(x)\n",
    "x=Dropout(0.5)(x)\n",
    "x=GlobalMaxPooling1D()(x)\n",
    "x=Dense(64,activation='relu')(x)\n",
    "x=Dropout(0.5)(x)\n",
    "x=Dense(4,activation='softmax')(x)\n",
    "\n",
    "model=Model(input,x)\n",
    "\n",
    "optimizer=Adam(learning_rate=0.001)\n",
    "model.compile(optimizer=optimizer,loss='categorical_crossentropy',metrics=['accuracy'])"
   ]
  },
  {
   "cell_type": "code",
   "execution_count": 54,
   "id": "6a561e37",
   "metadata": {},
   "outputs": [
    {
     "data": {
      "text/plain": [
       "array([[0., 0., 1., 0.],\n",
       "       [0., 1., 0., 0.],\n",
       "       [0., 1., 0., 0.],\n",
       "       ...,\n",
       "       [0., 0., 0., 1.],\n",
       "       [0., 0., 0., 1.],\n",
       "       [0., 0., 1., 0.]])"
      ]
     },
     "execution_count": 54,
     "metadata": {},
     "output_type": "execute_result"
    }
   ],
   "source": [
    "import tensorflow as tf\n",
    "num_classes=4\n",
    "y_train_oh=tf.keras.utils.to_categorical(y_train,num_classes=num_classes)\n",
    "y_test_oh=tf.keras.utils.to_categorical(y_test,num_classes=num_classes)\n",
    "y_test_oh"
   ]
  },
  {
   "cell_type": "code",
   "execution_count": 55,
   "id": "d62d7166",
   "metadata": {},
   "outputs": [
    {
     "name": "stdout",
     "output_type": "stream",
     "text": [
      "Epoch 1/15\n",
      "\u001b[1m2313/2313\u001b[0m \u001b[32m━━━━━━━━━━━━━━━━━━━━\u001b[0m\u001b[37m\u001b[0m \u001b[1m1103s\u001b[0m 472ms/step - accuracy: 0.4394 - loss: 1.2094 - val_accuracy: 0.7868 - val_loss: 0.6640\n",
      "Epoch 2/15\n",
      "\u001b[1m2313/2313\u001b[0m \u001b[32m━━━━━━━━━━━━━━━━━━━━\u001b[0m\u001b[37m\u001b[0m \u001b[1m1055s\u001b[0m 451ms/step - accuracy: 0.7353 - loss: 0.6875 - val_accuracy: 0.8659 - val_loss: 0.4161\n",
      "Epoch 3/15\n",
      "\u001b[1m2313/2313\u001b[0m \u001b[32m━━━━━━━━━━━━━━━━━━━━\u001b[0m\u001b[37m\u001b[0m \u001b[1m1663s\u001b[0m 719ms/step - accuracy: 0.7997 - loss: 0.5171 - val_accuracy: 0.8709 - val_loss: 0.3324\n",
      "Epoch 4/15\n",
      "\u001b[1m2313/2313\u001b[0m \u001b[32m━━━━━━━━━━━━━━━━━━━━\u001b[0m\u001b[37m\u001b[0m \u001b[1m1485s\u001b[0m 642ms/step - accuracy: 0.8280 - loss: 0.4390 - val_accuracy: 0.8869 - val_loss: 0.3008\n",
      "Epoch 5/15\n",
      "\u001b[1m2313/2313\u001b[0m \u001b[32m━━━━━━━━━━━━━━━━━━━━\u001b[0m\u001b[37m\u001b[0m \u001b[1m1191s\u001b[0m 515ms/step - accuracy: 0.8425 - loss: 0.3996 - val_accuracy: 0.8949 - val_loss: 0.2925\n",
      "Epoch 6/15\n",
      "\u001b[1m2313/2313\u001b[0m \u001b[32m━━━━━━━━━━━━━━━━━━━━\u001b[0m\u001b[37m\u001b[0m \u001b[1m972s\u001b[0m 420ms/step - accuracy: 0.8515 - loss: 0.3714 - val_accuracy: 0.8939 - val_loss: 0.2904\n",
      "Epoch 7/15\n",
      "\u001b[1m2313/2313\u001b[0m \u001b[32m━━━━━━━━━━━━━━━━━━━━\u001b[0m\u001b[37m\u001b[0m \u001b[1m1199s\u001b[0m 514ms/step - accuracy: 0.8582 - loss: 0.3525 - val_accuracy: 0.9009 - val_loss: 0.2713\n",
      "Epoch 8/15\n",
      "\u001b[1m2313/2313\u001b[0m \u001b[32m━━━━━━━━━━━━━━━━━━━━\u001b[0m\u001b[37m\u001b[0m \u001b[1m729s\u001b[0m 315ms/step - accuracy: 0.8638 - loss: 0.3390 - val_accuracy: 0.9079 - val_loss: 0.2751\n",
      "Epoch 9/15\n",
      "\u001b[1m2313/2313\u001b[0m \u001b[32m━━━━━━━━━━━━━━━━━━━━\u001b[0m\u001b[37m\u001b[0m \u001b[1m581s\u001b[0m 251ms/step - accuracy: 0.8685 - loss: 0.3207 - val_accuracy: 0.9119 - val_loss: 0.2693\n",
      "Epoch 10/15\n",
      "\u001b[1m2313/2313\u001b[0m \u001b[32m━━━━━━━━━━━━━━━━━━━━\u001b[0m\u001b[37m\u001b[0m \u001b[1m598s\u001b[0m 241ms/step - accuracy: 0.8722 - loss: 0.3101 - val_accuracy: 0.9129 - val_loss: 0.2829\n",
      "Epoch 11/15\n",
      "\u001b[1m2313/2313\u001b[0m \u001b[32m━━━━━━━━━━━━━━━━━━━━\u001b[0m\u001b[37m\u001b[0m \u001b[1m603s\u001b[0m 259ms/step - accuracy: 0.8765 - loss: 0.3022 - val_accuracy: 0.9149 - val_loss: 0.2618\n",
      "Epoch 12/15\n",
      "\u001b[1m2313/2313\u001b[0m \u001b[32m━━━━━━━━━━━━━━━━━━━━\u001b[0m\u001b[37m\u001b[0m \u001b[1m618s\u001b[0m 267ms/step - accuracy: 0.8780 - loss: 0.2953 - val_accuracy: 0.9099 - val_loss: 0.2847\n",
      "Epoch 13/15\n",
      "\u001b[1m2313/2313\u001b[0m \u001b[32m━━━━━━━━━━━━━━━━━━━━\u001b[0m\u001b[37m\u001b[0m \u001b[1m609s\u001b[0m 263ms/step - accuracy: 0.8794 - loss: 0.2914 - val_accuracy: 0.9089 - val_loss: 0.2694\n",
      "Epoch 14/15\n",
      "\u001b[1m2313/2313\u001b[0m \u001b[32m━━━━━━━━━━━━━━━━━━━━\u001b[0m\u001b[37m\u001b[0m \u001b[1m1000s\u001b[0m 427ms/step - accuracy: 0.8866 - loss: 0.2767 - val_accuracy: 0.9169 - val_loss: 0.2605\n",
      "Epoch 15/15\n",
      "\u001b[1m2313/2313\u001b[0m \u001b[32m━━━━━━━━━━━━━━━━━━━━\u001b[0m\u001b[37m\u001b[0m \u001b[1m831s\u001b[0m 359ms/step - accuracy: 0.8888 - loss: 0.2721 - val_accuracy: 0.9159 - val_loss: 0.2775\n"
     ]
    }
   ],
   "source": [
    "history=model.fit(X_train,y_train_oh,epochs=15,validation_data=(X_test,y_test_oh))"
   ]
  },
  {
   "cell_type": "code",
   "execution_count": 56,
   "id": "618437cb",
   "metadata": {},
   "outputs": [
    {
     "name": "stdout",
     "output_type": "stream",
     "text": [
      "\u001b[1m32/32\u001b[0m \u001b[32m━━━━━━━━━━━━━━━━━━━━\u001b[0m\u001b[37m\u001b[0m \u001b[1m4s\u001b[0m 106ms/step - accuracy: 0.9232 - loss: 0.2279\n"
     ]
    }
   ],
   "source": [
    "loss,accuracy=model.evaluate(X_test,y_test_oh)"
   ]
  },
  {
   "cell_type": "code",
   "execution_count": 57,
   "id": "9e89dabb",
   "metadata": {},
   "outputs": [
    {
     "name": "stdout",
     "output_type": "stream",
     "text": [
      "test loss: 0.2775006890296936\n",
      "test accuracy: 0.9159159064292908\n"
     ]
    }
   ],
   "source": [
    "print('test loss:',loss)\n",
    "print('test accuracy:',accuracy)"
   ]
  }
 ],
 "metadata": {
  "kernelspec": {
   "display_name": "Python 3",
   "language": "python",
   "name": "python3"
  },
  "language_info": {
   "codemirror_mode": {
    "name": "ipython",
    "version": 3
   },
   "file_extension": ".py",
   "mimetype": "text/x-python",
   "name": "python",
   "nbconvert_exporter": "python",
   "pygments_lexer": "ipython3",
   "version": "3.12.3"
  }
 },
 "nbformat": 4,
 "nbformat_minor": 5
}
